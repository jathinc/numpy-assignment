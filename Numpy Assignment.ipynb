{
 "cells": [
  {
   "cell_type": "code",
   "execution_count": 1,
   "metadata": {},
   "outputs": [
    {
     "name": "stdout",
     "output_type": "stream",
     "text": [
      "[[ 1  1  1]\n",
      " [ 4  2  1]\n",
      " [ 9  3  1]\n",
      " [25  5  1]]\n"
     ]
    }
   ],
   "source": [
    "#1. Write a function so that the columns of the output matrix are powers of the input vector.\n",
    "\n",
    "import numpy as np\n",
    "\n",
    "# Define the function\n",
    "def Vandermonde(x,N):\n",
    "    result = np.column_stack([x**(N-1-i) for i in range (N)])\n",
    "    return result\n",
    "\n",
    "# invoke the function\n",
    "x = np.array([1, 2, 3, 5])\n",
    "N=3\n",
    "y = Vandermonde(x,N)\n",
    "print(y)"
   ]
  },
  {
   "cell_type": "code",
   "execution_count": 4,
   "metadata": {},
   "outputs": [
    {
     "data": {
      "text/plain": [
       "array([  5.        ,   4.66666667,   5.66666667,   6.66666667,\n",
       "         9.66666667,  28.66666667,  49.33333333,  72.66666667,\n",
       "        84.        ,  93.33333333, 116.33333333])"
      ]
     },
     "execution_count": 4,
     "metadata": {},
     "output_type": "execute_result"
    }
   ],
   "source": [
    "#2. Write a function to find moving average in an array over a window:\n",
    "#Test it over [3, 5, 7, 2, 8, 10, 11, 65, 72, 81, 99, 100, 150] and window of 3.\n",
    "\n",
    "import numpy as np\n",
    "import pandas as pd\n",
    "\n",
    "# define teh funcation\n",
    "def moving_average(arr,n):\n",
    "\n",
    "    # convert the array to a series so that rolling funcation can be applied.\n",
    "    x = pd.Series(arr)\n",
    "    y = x.rolling(window=n,center=True).mean()\n",
    "    z = y.dropna()\n",
    "    return z.values\n",
    "\n",
    "inp_arr = [3, 5, 7, 2, 8, 10, 11, 65, 72, 81, 99, 100, 150]\n",
    "window = 3\n",
    "\n",
    "result = moving_average(inp_arr,window)\n",
    "result"
   ]
  }
 ],
 "metadata": {
  "kernelspec": {
   "display_name": "Python 3",
   "language": "python",
   "name": "python3"
  },
  "language_info": {
   "codemirror_mode": {
    "name": "ipython",
    "version": 3
   },
   "file_extension": ".py",
   "mimetype": "text/x-python",
   "name": "python",
   "nbconvert_exporter": "python",
   "pygments_lexer": "ipython3",
   "version": "3.7.4"
  }
 },
 "nbformat": 4,
 "nbformat_minor": 2
}
